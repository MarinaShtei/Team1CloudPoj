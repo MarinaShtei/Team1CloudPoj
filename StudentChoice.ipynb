{
  "nbformat": 4,
  "nbformat_minor": 0,
  "metadata": {
    "colab": {
      "provenance": [],
      "authorship_tag": "ABX9TyOdhWSn8CaCMsYUKuFQIAlx",
      "include_colab_link": true
    },
    "kernelspec": {
      "name": "python3",
      "display_name": "Python 3"
    },
    "language_info": {
      "name": "python"
    },
    "widgets": {
      "application/vnd.jupyter.widget-state+json": {
        "9cc5b88483b64c04b2f3c096382d6bd9": {
          "model_module": "@jupyter-widgets/controls",
          "model_name": "ButtonModel",
          "model_module_version": "1.5.0",
          "state": {
            "_dom_classes": [],
            "_model_module": "@jupyter-widgets/controls",
            "_model_module_version": "1.5.0",
            "_model_name": "ButtonModel",
            "_view_count": null,
            "_view_module": "@jupyter-widgets/controls",
            "_view_module_version": "1.5.0",
            "_view_name": "ButtonView",
            "button_style": "",
            "description": "Update Me!",
            "disabled": false,
            "icon": "",
            "layout": "IPY_MODEL_524d72d31dc54fe2abb9d5070d3b4236",
            "style": "IPY_MODEL_1fd19296827f4da7ad9edd91acbdb67a",
            "tooltip": ""
          }
        },
        "524d72d31dc54fe2abb9d5070d3b4236": {
          "model_module": "@jupyter-widgets/base",
          "model_name": "LayoutModel",
          "model_module_version": "1.2.0",
          "state": {
            "_model_module": "@jupyter-widgets/base",
            "_model_module_version": "1.2.0",
            "_model_name": "LayoutModel",
            "_view_count": null,
            "_view_module": "@jupyter-widgets/base",
            "_view_module_version": "1.2.0",
            "_view_name": "LayoutView",
            "align_content": null,
            "align_items": null,
            "align_self": null,
            "border": null,
            "bottom": null,
            "display": null,
            "flex": null,
            "flex_flow": null,
            "grid_area": null,
            "grid_auto_columns": null,
            "grid_auto_flow": null,
            "grid_auto_rows": null,
            "grid_column": null,
            "grid_gap": null,
            "grid_row": null,
            "grid_template_areas": null,
            "grid_template_columns": null,
            "grid_template_rows": null,
            "height": null,
            "justify_content": null,
            "justify_items": null,
            "left": null,
            "margin": null,
            "max_height": null,
            "max_width": null,
            "min_height": null,
            "min_width": null,
            "object_fit": null,
            "object_position": null,
            "order": null,
            "overflow": null,
            "overflow_x": null,
            "overflow_y": null,
            "padding": null,
            "right": null,
            "top": null,
            "visibility": null,
            "width": null
          }
        },
        "1fd19296827f4da7ad9edd91acbdb67a": {
          "model_module": "@jupyter-widgets/controls",
          "model_name": "ButtonStyleModel",
          "model_module_version": "1.5.0",
          "state": {
            "_model_module": "@jupyter-widgets/controls",
            "_model_module_version": "1.5.0",
            "_model_name": "ButtonStyleModel",
            "_view_count": null,
            "_view_module": "@jupyter-widgets/base",
            "_view_module_version": "1.2.0",
            "_view_name": "StyleView",
            "button_color": "pink",
            "font_weight": "bold"
          }
        },
        "99d7fa2d1afb4fc4a5577252d8f0470e": {
          "model_module": "@jupyter-widgets/output",
          "model_name": "OutputModel",
          "model_module_version": "1.0.0",
          "state": {
            "_dom_classes": [],
            "_model_module": "@jupyter-widgets/output",
            "_model_module_version": "1.0.0",
            "_model_name": "OutputModel",
            "_view_count": null,
            "_view_module": "@jupyter-widgets/output",
            "_view_module_version": "1.0.0",
            "_view_name": "OutputView",
            "layout": "IPY_MODEL_6943f97b9b5d4b0eb467e8e9f0e0567d",
            "msg_id": "",
            "outputs": [
              {
                "output_type": "stream",
                "name": "stdout",
                "text": [
                  "\u001b[35mFavorite show updated successfully!\u001b[0m\n"
                ]
              }
            ]
          }
        },
        "6943f97b9b5d4b0eb467e8e9f0e0567d": {
          "model_module": "@jupyter-widgets/base",
          "model_name": "LayoutModel",
          "model_module_version": "1.2.0",
          "state": {
            "_model_module": "@jupyter-widgets/base",
            "_model_module_version": "1.2.0",
            "_model_name": "LayoutModel",
            "_view_count": null,
            "_view_module": "@jupyter-widgets/base",
            "_view_module_version": "1.2.0",
            "_view_name": "LayoutView",
            "align_content": null,
            "align_items": null,
            "align_self": null,
            "border": null,
            "bottom": null,
            "display": null,
            "flex": null,
            "flex_flow": null,
            "grid_area": null,
            "grid_auto_columns": null,
            "grid_auto_flow": null,
            "grid_auto_rows": null,
            "grid_column": null,
            "grid_gap": null,
            "grid_row": null,
            "grid_template_areas": null,
            "grid_template_columns": null,
            "grid_template_rows": null,
            "height": null,
            "justify_content": null,
            "justify_items": null,
            "left": null,
            "margin": null,
            "max_height": null,
            "max_width": null,
            "min_height": null,
            "min_width": null,
            "object_fit": null,
            "object_position": null,
            "order": null,
            "overflow": null,
            "overflow_x": null,
            "overflow_y": null,
            "padding": null,
            "right": null,
            "top": null,
            "visibility": null,
            "width": null
          }
        }
      }
    }
  },
  "cells": [
    {
      "cell_type": "markdown",
      "metadata": {
        "id": "view-in-github",
        "colab_type": "text"
      },
      "source": [
        "<a href=\"https://colab.research.google.com/github/MarinaShtei/Team1CloudPoj/blob/master/StudentChoice.ipynb\" target=\"_parent\"><img src=\"https://colab.research.google.com/assets/colab-badge.svg\" alt=\"Open In Colab\"/></a>"
      ]
    },
    {
      "cell_type": "code",
      "source": [
        "from google.colab import drive\n",
        "drive.mount('/content/drive')"
      ],
      "metadata": {
        "colab": {
          "base_uri": "https://localhost:8080/"
        },
        "id": "-mpWek_qo-u9",
        "outputId": "e03ee43f-ce8a-4965-9daf-fb22c520e4cb"
      },
      "execution_count": 4,
      "outputs": [
        {
          "output_type": "stream",
          "name": "stdout",
          "text": [
            "Drive already mounted at /content/drive; to attempt to forcibly remount, call drive.mount(\"/content/drive\", force_remount=True).\n"
          ]
        }
      ]
    },
    {
      "cell_type": "code",
      "source": [
        "cd /content/drive/MyDrive"
      ],
      "metadata": {
        "colab": {
          "base_uri": "https://localhost:8080/"
        },
        "id": "8GmoN8i-pMG7",
        "outputId": "6c942fa5-cf89-4337-9d61-4a49dd9fe2dc"
      },
      "execution_count": 9,
      "outputs": [
        {
          "output_type": "stream",
          "name": "stdout",
          "text": [
            "/content/drive/MyDrive\n"
          ]
        }
      ]
    },
    {
      "cell_type": "code",
      "source": [
        "import ipywidgets as widgets\n",
        "from IPython.display import display\n",
        "import simple_colors\n",
        "\n",
        "\n",
        "\n",
        "students = 'Lior' #@param [\"Lior\", \"Marina\", \"Amit\" , \"Israel\" , \"Erik\" , \"Nave\"] \n",
        "favorite_show = \"TVD\" #@param {type:\"string\"}\n",
        "name = students\n",
        "with open('student.txt', 'r+') as file:\n",
        "  contents = file.read()\n",
        "  studentListline = contents.split('\\n')\n",
        "  for each in studentListline:\n",
        "    if name in each:\n",
        "        print(simple_colors.magenta(each.replace('\\t', '\\n')))\n",
        "\n",
        "\n",
        "button_style = {'button_color': 'pink', 'font_weight': 'bold'}\n",
        "button = widgets.Button(description=\"Update Me!\", style=button_style)\n",
        "output = widgets.Output()\n",
        "def on_button_clicked(b):\n",
        "    with open('student.txt', 'r+') as file:\n",
        "        lines = file.readlines()\n",
        "        file.seek(0)\n",
        "        for line in lines:\n",
        "            if name in line:\n",
        "                line = line.strip() + '\\t' + favorite_show + '\\n'\n",
        "            file.write(line)\n",
        "        file.truncate()\n",
        "    with output:\n",
        "        print(simple_colors.magenta(\"Favorite show updated successfully!\"))\n",
        "\n",
        "button.on_click(on_button_clicked)\n",
        "\n",
        "display(button, output)\n"
      ],
      "metadata": {
        "colab": {
          "base_uri": "https://localhost:8080/",
          "height": 158,
          "referenced_widgets": [
            "9cc5b88483b64c04b2f3c096382d6bd9",
            "524d72d31dc54fe2abb9d5070d3b4236",
            "1fd19296827f4da7ad9edd91acbdb67a",
            "99d7fa2d1afb4fc4a5577252d8f0470e",
            "6943f97b9b5d4b0eb467e8e9f0e0567d"
          ]
        },
        "id": "-6ekmFrxpcu6",
        "outputId": "e04adc1c-1340-4e4a-8174-602ac45bf915"
      },
      "execution_count": 81,
      "outputs": [
        {
          "output_type": "stream",
          "name": "stdout",
          "text": [
            "\u001b[35mLior \n",
            "Buzaglo\n",
            "lior.buzaglo@e.braude.ac.il\n",
            "Algorithem,Prob , Web , Cloud\n",
            "https://www.youtube.com/watch?v=XqZsoesa55w&vl=en\u001b[0m\n"
          ]
        },
        {
          "output_type": "display_data",
          "data": {
            "text/plain": [
              "Button(description='Update Me!', style=ButtonStyle(button_color='pink', font_weight='bold'))"
            ],
            "application/vnd.jupyter.widget-view+json": {
              "version_major": 2,
              "version_minor": 0,
              "model_id": "9cc5b88483b64c04b2f3c096382d6bd9"
            }
          },
          "metadata": {}
        },
        {
          "output_type": "display_data",
          "data": {
            "text/plain": [
              "Output()"
            ],
            "application/vnd.jupyter.widget-view+json": {
              "version_major": 2,
              "version_minor": 0,
              "model_id": "99d7fa2d1afb4fc4a5577252d8f0470e"
            }
          },
          "metadata": {}
        }
      ]
    },
    {
      "cell_type": "code",
      "source": [
        "!pip install simple-colors  "
      ],
      "metadata": {
        "colab": {
          "base_uri": "https://localhost:8080/"
        },
        "id": "FGUAs7XK5W3s",
        "outputId": "f78378d7-535a-42b0-90aa-c308c6f1ef28"
      },
      "execution_count": 75,
      "outputs": [
        {
          "output_type": "stream",
          "name": "stdout",
          "text": [
            "Looking in indexes: https://pypi.org/simple, https://us-python.pkg.dev/colab-wheels/public/simple/\n",
            "Collecting simple-colors\n",
            "  Downloading simple_colors-0.1.5-py3-none-any.whl (2.8 kB)\n",
            "Installing collected packages: simple-colors\n",
            "Successfully installed simple-colors-0.1.5\n"
          ]
        }
      ]
    }
  ]
}